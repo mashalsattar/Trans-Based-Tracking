{
 "cells": [
  {
   "cell_type": "code",
   "execution_count": 2,
   "metadata": {},
   "outputs": [
    {
     "name": "stderr",
     "output_type": "stream",
     "text": [
      "Using cache found in C:\\Users\\user/.cache\\torch\\hub\\facebookresearch_detr_main\n"
     ]
    }
   ],
   "source": [
    "import cv2\n",
    "import torch\n",
    "import torchvision.transforms as T\n",
    "from PIL import Image\n",
    "import numpy as np\n",
    "\n",
    "# Load the pre-trained DETR model\n",
    "model = torch.hub.load('facebookresearch/detr', 'detr_resnet50', pretrained=True)\n",
    "model.eval()\n",
    "\n",
    "# Transform for the input frame\n",
    "transform = T.Compose([\n",
    "    T.Resize(800),\n",
    "    T.ToTensor(),\n",
    "    T.Normalize([0.485, 0.456, 0.406], [0.229, 0.224, 0.225])\n",
    "])\n",
    "\n",
    "def get_bounding_boxes(outputs, threshold=0.7):\n",
    "    \"\"\" Get bounding boxes from model output \"\"\"\n",
    "    probas = outputs['pred_logits'].softmax(-1)[0, :, :-1]\n",
    "    keep = probas.max(-1).values > threshold\n",
    "    boxes = outputs['pred_boxes'][0, keep]\n",
    "    return boxes\n",
    "\n",
    "def rescale_bboxes(out_bbox, size):\n",
    "    \"\"\" Rescale bounding boxes to the original image size \"\"\"\n",
    "    img_w, img_h = size\n",
    "    b = out_bbox.cpu().clone()\n",
    "    b = box_cxcywh_to_xyxy(b)\n",
    "    b = b * torch.tensor([img_w, img_h, img_w, img_h], dtype=torch.float32)\n",
    "    return b\n",
    "\n",
    "def box_cxcywh_to_xyxy(x):\n",
    "    \"\"\" Convert bounding boxes from [c_x, c_y, w, h] to [x_min, y_min, x_max, y_max] \"\"\"\n",
    "    x_c, y_c, w, h = x.unbind(1)\n",
    "    b = [x_c - 0.5 * w, y_c - 0.5 * h, x_c + 0.5 * w, y_c + 0.5 * h]\n",
    "    return torch.stack(b, dim=1)\n",
    "\n",
    "def draw_boxes(frame, boxes):\n",
    "    \"\"\" Draw bounding boxes on the frame \"\"\"\n",
    "    for box in boxes:\n",
    "        x_min, y_min, x_max, y_max = box.int().numpy()\n",
    "        cv2.rectangle(frame, (x_min, y_min), (x_max, y_max), (0, 255, 0), 2)\n",
    "    return frame\n",
    "\n",
    "# Capture video from the webcam\n",
    "cap = cv2.VideoCapture(0)\n",
    "\n",
    "while True:\n",
    "    # Capture a new frame\n",
    "    ret, frame = cap.read()\n",
    "    if not ret:\n",
    "        break\n",
    "\n",
    "    # Convert the frame to a PIL image\n",
    "    pil_img = Image.fromarray(cv2.cvtColor(frame, cv2.COLOR_BGR2RGB))\n",
    "    \n",
    "    # Apply the transformations\n",
    "    img = transform(pil_img).unsqueeze(0)\n",
    "    \n",
    "    # Make predictions\n",
    "    with torch.no_grad():\n",
    "        outputs = model(img)\n",
    "    \n",
    "    # Get bounding boxes\n",
    "    boxes = get_bounding_boxes(outputs)\n",
    "    \n",
    "    # Rescale the bounding boxes to the original image size\n",
    "    boxes = rescale_bboxes(boxes, pil_img.size)\n",
    "    \n",
    "    # Draw the bounding boxes on the frame\n",
    "    frame = draw_boxes(frame, boxes)\n",
    "    \n",
    "    # Display the frame\n",
    "    cv2.imshow(\"Tracking\", frame)\n",
    "    \n",
    "    # Exit on 'q' key press\n",
    "    if cv2.waitKey(1) & 0xFF == ord('q'):\n",
    "        break\n",
    "\n",
    "# Release the capture and destroy any OpenCV windows\n",
    "cap.release()\n",
    "cv2.destroyAllWindows()\n"
   ]
  },
  {
   "cell_type": "code",
   "execution_count": null,
   "metadata": {},
   "outputs": [],
   "source": []
  },
  {
   "cell_type": "code",
   "execution_count": null,
   "metadata": {},
   "outputs": [],
   "source": []
  }
 ],
 "metadata": {
  "kernelspec": {
   "display_name": "Python 3",
   "language": "python",
   "name": "python3"
  },
  "language_info": {
   "codemirror_mode": {
    "name": "ipython",
    "version": 3
   },
   "file_extension": ".py",
   "mimetype": "text/x-python",
   "name": "python",
   "nbconvert_exporter": "python",
   "pygments_lexer": "ipython3",
   "version": "3.11.9"
  }
 },
 "nbformat": 4,
 "nbformat_minor": 2
}
